{
 "cells": [
  {
   "cell_type": "markdown",
   "metadata": {},
   "source": [
    "# Problem Set2"
   ]
  },
  {
   "cell_type": "markdown",
   "metadata": {},
   "source": [
    "# Question 1"
   ]
  },
  {
   "cell_type": "markdown",
   "metadata": {},
   "source": [
    "a=6\n",
    "Parameter a is declared globally. The globalized parameter is applied outside the function environment as the function runs (globally)."
   ]
  },
  {
   "cell_type": "markdown",
   "metadata": {},
   "source": [
    "# Question 2"
   ]
  },
  {
   "cell_type": "code",
   "execution_count": 5,
   "metadata": {},
   "outputs": [],
   "source": [
    "def fileLength(filename):\n",
    "    try:\n",
    "        f=open(filename,encoding='utf-8')\n",
    "        file_length= len(f.read())\n",
    "        print(file_length)\n",
    "        f.close()\n",
    "    except Exception as e:\n",
    "        print('File {} not found.'.format(filename))\n"
   ]
  },
  {
   "cell_type": "markdown",
   "metadata": {},
   "source": [
    "# Question 3"
   ]
  },
  {
   "cell_type": "code",
   "execution_count": null,
   "metadata": {},
   "outputs": [],
   "source": [
    "class Marsupial():\n",
    "    def __init__(self):\n",
    "        l=[]\n",
    "        self.l=l\n",
    "    def put_in_pouch(self,name):\n",
    "        self.l.append(name)\n",
    "    def pouch_contents(self):\n",
    "        return self.l\n",
    "\n",
    "class Kangaroo(Marsupial):\n",
    "    def __init__(self,x,y):\n",
    "        super(Kangaroo, self).__init__()\n",
    "        self.x=x\n",
    "        self.y=y\n",
    "    def __str__(self):\n",
    "        return 'I am a Kangaroo located at coordinates ({},{})'.format(self.x, self.y)\n",
    "    def jump(self,a,b):\n",
    "        self.x+=a\n",
    "        self.y+=b\n",
    "        return 'I am a Kangaroo located at coordinates ({},{})'.format(self.x, self.y)\n"
   ]
  },
  {
   "cell_type": "code",
   "execution_count": 14,
   "metadata": {},
   "outputs": [],
   "source": [
    "# Test\n",
    "# m=Marsupial()\n",
    "# m.put_in_pouch('a')\n",
    "# m.put_in_pouch('b')\n",
    "# m.put_in_pouch('c')\n",
    "# print(m.pouch_contents())\n",
    "# k = Kangaroo(0,0)\n",
    "# print(k)\n",
    "# k.put_in_pouch('a')\n",
    "# k.put_in_pouch('b')\n",
    "# k.put_in_pouch('c')\n",
    "# k.pouch_contents()\n",
    "# k.jump(1, 0)\n",
    "# k.jump(1, 0)\n",
    "# k.jump(1, 0)\n",
    "# print(k)\n",
    "\n"
   ]
  },
  {
   "cell_type": "markdown",
   "metadata": {},
   "source": [
    "# Question 4"
   ]
  },
  {
   "cell_type": "code",
   "execution_count": 15,
   "metadata": {},
   "outputs": [],
   "source": [
    "l=[]\n",
    "def collatz_1(x):\n",
    "    if x%2:\n",
    "        x=3*x+1\n",
    "    else:\n",
    "        x=x//2\n",
    "    return x\n",
    "def collatz(x):\n",
    "    global l\n",
    "    if not l:\n",
    "        l.append(x)\n",
    "    a=collatz_1(x)\n",
    "    l.append(a)\n",
    "    if a==1:\n",
    "        return l\n",
    "    else:\n",
    "        collatz(a)\n",
    "        return l\n"
   ]
  },
  {
   "cell_type": "code",
   "execution_count": 7,
   "metadata": {},
   "outputs": [],
   "source": [
    "# Test\n",
    "# a=collatz(10)\n",
    "# print(a)\n",
    "\n"
   ]
  },
  {
   "cell_type": "markdown",
   "metadata": {},
   "source": [
    "# Question 5"
   ]
  },
  {
   "cell_type": "code",
   "execution_count": 8,
   "metadata": {},
   "outputs": [],
   "source": [
    "def binary_1(input, output=\"\"):\n",
    "    if (input != 0):\n",
    "        a = input % 2\n",
    "        output = output + str(a)\n",
    "        return binary_1(int(input / 2), output)\n",
    "    else:\n",
    "        return output\n",
    "def binary(input):\n",
    "    out=binary_1(input)\n",
    "    l = list(out)\n",
    "    l.reverse()\n",
    "    result = \"\".join(l)\n",
    "    return result\n"
   ]
  },
  {
   "cell_type": "code",
   "execution_count": 10,
   "metadata": {},
   "outputs": [],
   "source": [
    "# Test\n",
    "# a=binary(9)\n",
    "# print(a)\n"
   ]
  },
  {
   "cell_type": "markdown",
   "metadata": {},
   "source": [
    "# Question 6"
   ]
  },
  {
   "cell_type": "code",
   "execution_count": 11,
   "metadata": {},
   "outputs": [],
   "source": [
    "from html.parser import HTMLParser\n",
    "class HeadingParser(HTMLParser):\n",
    "    def __init__(self):\n",
    "        self.n=0\n",
    "        super(HeadingParser,self).__init__()\n",
    "        pass\n",
    "\n",
    "    def handle_data(self, data):\n",
    "        self.n += 1\n",
    "        print(' '*self.n,data)\n"
   ]
  },
  {
   "cell_type": "code",
   "execution_count": 13,
   "metadata": {},
   "outputs": [],
   "source": [
    "# Test\n",
    "# parser = HeadingParser()\n",
    "# parser.feed('<html><head><title>T1</title></head>'\n",
    "#             '<body><h1>T2</h1></body></html>')\n",
    "\n"
   ]
  },
  {
   "cell_type": "markdown",
   "metadata": {},
   "source": [
    "# Question 7"
   ]
  },
  {
   "cell_type": "code",
   "execution_count": null,
   "metadata": {},
   "outputs": [],
   "source": []
  },
  {
   "cell_type": "markdown",
   "metadata": {},
   "source": [
    "# Question 8"
   ]
  },
  {
   "cell_type": "markdown",
   "metadata": {},
   "source": [
    "SELECT Temperature (C) FROM table;\n",
    "SELECT City FROM table GROUP BY City;\n",
    "SELECT * From table WHERE Country is ‘India’;\n",
    "SELECT * From table WHERE Season is ‘Fall’;\n",
    "SELECT City,Country and Season From table WHERE Rainfall(mm) BETWEEN 200 AND 400;\n",
    "SELECT City and Country From table WHERE Temperature (C) >20;\n"
   ]
  },
  {
   "cell_type": "markdown",
   "metadata": {},
   "source": [
    "# Question 9"
   ]
  },
  {
   "cell_type": "code",
   "execution_count": null,
   "metadata": {},
   "outputs": [],
   "source": []
  }
 ],
 "metadata": {
  "kernelspec": {
   "display_name": "Python 3",
   "language": "python",
   "name": "python3"
  },
  "language_info": {
   "codemirror_mode": {
    "name": "ipython",
    "version": 3
   },
   "file_extension": ".py",
   "mimetype": "text/x-python",
   "name": "python",
   "nbconvert_exporter": "python",
   "pygments_lexer": "ipython3",
   "version": "3.8.5"
  }
 },
 "nbformat": 4,
 "nbformat_minor": 4
}
